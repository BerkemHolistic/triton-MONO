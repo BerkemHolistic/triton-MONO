{
 "cells": [
  {
   "cell_type": "markdown",
   "source": [
    "# Import dependencies"
   ],
   "metadata": {
    "collapsed": false
   }
  },
  {
   "cell_type": "code",
   "execution_count": 1,
   "outputs": [],
   "source": [
    "from extractors import extract_text_from_pdf,extract_all_content_from_webpage\n",
    "import asyncio\n",
    "import nest_asyncio\n",
    "from pipeline import QuestionAnsweringSystem\n",
    "import json"
   ],
   "metadata": {
    "collapsed": false,
    "ExecuteTime": {
     "end_time": "2023-07-26T15:54:52.058326Z",
     "start_time": "2023-07-26T15:54:45.581440Z"
    }
   }
  },
  {
   "cell_type": "markdown",
   "source": [
    "# Step 1 Extract Texts from Multimedia Sources"
   ],
   "metadata": {
    "collapsed": false
   }
  },
  {
   "cell_type": "markdown",
   "source": [
    "## Extract From PDF"
   ],
   "metadata": {
    "collapsed": false
   }
  },
  {
   "cell_type": "code",
   "execution_count": 2,
   "metadata": {
    "collapsed": true,
    "ExecuteTime": {
     "end_time": "2023-07-26T15:54:52.060536Z",
     "start_time": "2023-07-26T15:54:52.058833Z"
    }
   },
   "outputs": [],
   "source": [
    "# text_pdf = extract_text_from_pdf(\"tests/example.pdf\")\n",
    "# text_pdf"
   ]
  },
  {
   "cell_type": "markdown",
   "source": [
    "## Extract From Website (testing)"
   ],
   "metadata": {
    "collapsed": false
   }
  },
  {
   "cell_type": "code",
   "execution_count": 3,
   "outputs": [],
   "source": [
    "# nest_asyncio.apply()\n",
    "# text_web = asyncio.run(extract_all_content_from_webpage(\"https://www.livingsecurity.com/solutions/unify-insights\"))\n",
    "# text_web_new = \" \".join(text_web)"
   ],
   "metadata": {
    "collapsed": false,
    "ExecuteTime": {
     "end_time": "2023-07-26T15:54:52.063075Z",
     "start_time": "2023-07-26T15:54:52.061125Z"
    }
   }
  },
  {
   "cell_type": "markdown",
   "source": [],
   "metadata": {
    "collapsed": false
   }
  },
  {
   "cell_type": "code",
   "execution_count": 4,
   "outputs": [],
   "source": [
    "example_text = '''\n",
    "The world of Human Resources (HR) is a domain of perpetual dynamics, characterized by continuous interactions, decision-making, and evaluation. Within this multifaceted milieu, a prominent embodiment of Artificial Intelligence (AI) has emerged as a game-changer: meet \"Emplify\", a state-of-the-art AI-powered employee engagement and performance management platform.\n",
    "\n",
    "Emplify has been engineered to masterfully merge AI capabilities with HR processes, focusing on enhancing employee engagement, facilitating performance management, and informing data-driven HR decisions. By leveraging natural language processing (NLP), machine learning, and predictive analytics, Emplify enables a nuanced understanding of employee sentiments, aspirations, and behavior patterns, thereby enriching the HR management landscape.\n",
    "\n",
    "At its core, Emplify performs comprehensive analysis of both qualitative and quantitative employee data. The AI system swiftly scans through a plethora of data sources - including surveys, performance evaluations, and digital communications. It goes beyond just number crunching and recognizes patterns, gauges sentiment, and interprets tacit knowledge concealed within unstructured data.\n",
    "\n",
    "In the sphere of performance management, Emplify's AI has been harnessed to create a fair, objective, and consistent evaluation system. Its predictive analytics capability aids in identifying future performance trends and potential employee churn, enabling HR teams to proactively strategize and respond.\n",
    "\n",
    "Moreover, Emplify learns continuously, adapting and improving its analysis and recommendations based on user interactions and feedback. This continual learning embodies the concept of AI’s autodidactic capabilities, allowing for a highly personalized and evolving user experience.\n",
    "\n",
    "However, in the midst of this technological breakthrough, it is crucial to consider the ethical implications of integrating AI in HR, particularly in regards to data privacy and algorithmic fairness. Unbiased algorithms, data security, and respectful employee privacy are paramount considerations that must be diligently maintained.\n",
    "\n",
    "In summary, AI systems such as Emplify represent the dawn of a new era in Human Resources, one that harmonizes human decision-making with AI's analytical prowess. These systems pose significant potential, ushering in transformative changes in the HR landscape, while simultaneously presenting new challenges to be navigated responsibly and ethically.\n",
    "'''"
   ],
   "metadata": {
    "collapsed": false,
    "ExecuteTime": {
     "end_time": "2023-07-26T15:54:52.067986Z",
     "start_time": "2023-07-26T15:54:52.066344Z"
    }
   }
  },
  {
   "cell_type": "markdown",
   "source": [
    "## Define Questions"
   ],
   "metadata": {
    "collapsed": false
   }
  },
  {
   "cell_type": "code",
   "execution_count": 5,
   "outputs": [
    {
     "data": {
      "text/plain": "'What is the name of the AI system ?'"
     },
     "execution_count": 5,
     "metadata": {},
     "output_type": "execute_result"
    }
   ],
   "source": [
    "selected_question_extractive = \"What is the name of the AI system ?\"\n",
    "search_str_extractive = selected_question_extractive\n",
    "selected_question_extractive"
   ],
   "metadata": {
    "collapsed": false,
    "ExecuteTime": {
     "end_time": "2023-07-26T15:54:52.073416Z",
     "start_time": "2023-07-26T15:54:52.071488Z"
    }
   }
  },
  {
   "cell_type": "markdown",
   "source": [
    "# Step 2 Information Improvement"
   ],
   "metadata": {
    "collapsed": false
   }
  },
  {
   "cell_type": "markdown",
   "source": [
    "## Obtain similar paragraphs based on the provided question"
   ],
   "metadata": {
    "collapsed": false
   }
  },
  {
   "cell_type": "code",
   "execution_count": 6,
   "outputs": [
    {
     "name": "stderr",
     "output_type": "stream",
     "text": [
      "INFO:sentence_transformers.SentenceTransformer:Load pretrained SentenceTransformer: all-MiniLM-L6-v2\n",
      "INFO:sentence_transformers.SentenceTransformer:Use pytorch device: cpu\n"
     ]
    }
   ],
   "source": [
    "qa_system = QuestionAnsweringSystem()"
   ],
   "metadata": {
    "collapsed": false,
    "ExecuteTime": {
     "end_time": "2023-07-26T15:55:00.702854Z",
     "start_time": "2023-07-26T15:54:52.073728Z"
    }
   }
  },
  {
   "cell_type": "code",
   "execution_count": 7,
   "outputs": [
    {
     "data": {
      "text/plain": "15"
     },
     "execution_count": 7,
     "metadata": {},
     "output_type": "execute_result"
    }
   ],
   "source": [
    "paralist = qa_system.create_paragraphs(example_text)\n",
    "len(paralist)"
   ],
   "metadata": {
    "collapsed": false,
    "ExecuteTime": {
     "end_time": "2023-07-26T15:55:00.779373Z",
     "start_time": "2023-07-26T15:55:00.676763Z"
    }
   }
  },
  {
   "cell_type": "code",
   "execution_count": 8,
   "outputs": [
    {
     "data": {
      "text/plain": "Batches:   0%|          | 0/1 [00:00<?, ?it/s]",
      "application/vnd.jupyter.widget-view+json": {
       "version_major": 2,
       "version_minor": 0,
       "model_id": "ff14eb6d143e4fa9b6272fac3655abab"
      }
     },
     "metadata": {},
     "output_type": "display_data"
    },
    {
     "data": {
      "text/plain": "Batches:   0%|          | 0/1 [00:00<?, ?it/s]",
      "application/vnd.jupyter.widget-view+json": {
       "version_major": 2,
       "version_minor": 0,
       "model_id": "9aa0f21fa1514ea4b9617bb26d7ed0aa"
      }
     },
     "metadata": {},
     "output_type": "display_data"
    },
    {
     "name": "stdout",
     "output_type": "stream",
     "text": [
      "[0.25701302 0.51656014 0.40026197 0.18099384 0.11487711 0.60238093\n",
      " 0.31746805 0.5023394  0.15665938 0.2390898  0.47608775 0.37044895\n",
      " 0.10591739 0.59706485 0.19914529]\n"
     ]
    },
    {
     "data": {
      "text/plain": "'Within this multifaceted milieu, a prominent embodiment of Artificial Intelligence (AI) has emerged as a game-changer: meet \"Emplify\", a state-of-the-art AI-powered employee engagement and performance management platform.\\n\\n The AI system swiftly scans through a plethora of data sources - including surveys, performance evaluations, and digital communications. In the sphere of performance management, Emplify\\'s AI has been harnessed to create a fair, objective, and consistent evaluation system. In summary, AI systems such as Emplify represent the dawn of a new era in Human Resources, one that harmonizes human decision-making with AI\\'s analytical prowess.'"
     },
     "execution_count": 8,
     "metadata": {},
     "output_type": "execute_result"
    }
   ],
   "source": [
    "selected_text = qa_system.get_similar_paragraphs(search_str_extractive,threshold=0.5)\n",
    "selected_text"
   ],
   "metadata": {
    "collapsed": false,
    "ExecuteTime": {
     "end_time": "2023-07-26T15:55:01.025247Z",
     "start_time": "2023-07-26T15:55:00.775868Z"
    }
   }
  },
  {
   "cell_type": "markdown",
   "source": [
    "## Summarize the similar paragraphs"
   ],
   "metadata": {
    "collapsed": false
   }
  },
  {
   "cell_type": "markdown",
   "source": [
    "# Step 3 Extractive Question Answering based on similar paragraphs"
   ],
   "metadata": {
    "collapsed": false
   }
  },
  {
   "cell_type": "code",
   "execution_count": 9,
   "outputs": [
    {
     "name": "stdout",
     "output_type": "stream",
     "text": [
      "{'score': 0.6613650918006897, 'start': 125, 'end': 132, 'answer': 'Emplify'}\n"
     ]
    }
   ],
   "source": [
    "answer_qa = qa_system.answer_question_extractive_qa(context=selected_text, question=selected_question_extractive)\n",
    "print(answer_qa)"
   ],
   "metadata": {
    "collapsed": false,
    "ExecuteTime": {
     "end_time": "2023-07-26T15:55:01.189384Z",
     "start_time": "2023-07-26T15:55:01.025908Z"
    }
   }
  },
  {
   "cell_type": "markdown",
   "source": [
    "# Step 4 Multi-Choice Question Answering based on similar paragraphs"
   ],
   "metadata": {
    "collapsed": false
   }
  },
  {
   "cell_type": "code",
   "execution_count": 10,
   "outputs": [
    {
     "data": {
      "text/plain": "{'questionnaire': [{'category': 'Basic Information',\n   'type': 'multiple',\n   'question': 'For Experience, this project enhances:',\n   'options': ['Consumer Experience',\n    'Customer Experience',\n    'Employee Experience',\n    'Commercial Experience',\n    'Product Management',\n    'Data & AI Foundation',\n    'Technology Foundation']},\n  {'category': 'Basic Information',\n   'type': 'multiple',\n   'question': 'For Ownership & Hierarchy, the project function are:',\n   'options': ['Audit',\n    'Finance',\n    'Legal',\n    'Supply Chain',\n    'Data & Analytics',\n    'Information Technology',\n    'Research & Development',\n    'Customer Development',\n    'Human Resources',\n    'Operations',\n    'Communications',\n    'General Management',\n    'Marketing & CMI']},\n  {'category': 'End Purpose',\n   'type': 'multiple',\n   'question': 'Of the enterprise use-cases listed below, select those that apply to this Solution:',\n   'options': ['Employment or training decisions',\n    'Image processing of persons',\n    'Biometric processing of persons',\n    'Safety or security',\n    'Recommendations impacting health',\n    'Credit scoring',\n    'Insurance access and terms',\n    'None of the list']},\n  {'category': 'End Purpose',\n   'type': 'multiple',\n   'question': 'Of the below aspects that are more relevant at the society level, select those that apply to this Solution:',\n   'options': ['Private and public services access',\n    'Health and healthcare',\n    'Law enforcement, democracy',\n    'Dignity and freedom of expression',\n    'Environmental impact to well-being',\n    'Automation of employment',\n    'None of the list']},\n  {'category': 'End Purpose',\n   'type': 'description',\n   'question': \"Please provide any other detail regarding the system's use-case below.\"},\n  {'category': 'Scope',\n   'type': 'single',\n   'question': 'Is the intended use of the system to interact with parties external to this organisation?',\n   'options': ['Yes', 'No']},\n  {'category': 'Scope',\n   'type': 'multiple',\n   'question': 'Who are the external parties? (Choose all that are appropriate)',\n   'options': ['Customers',\n    'Clients',\n    'Suppliers',\n    'Other: Please describe any Other external parties.']},\n  {'category': 'Scope',\n   'type': 'single',\n   'question': 'Prior to using the system, is it clearly communicated to the user that they are dealing with an automated system?',\n   'options': ['Yes', 'No']},\n  {'category': 'Scope',\n   'type': 'multiple',\n   'question': \"Please tick the mechanisms that you have in place in the event that an end user wishes to challenge the system's decisions.\",\n   'options': ['Provision of contact details',\n    'Provision of in-tool message capability',\n    'Provision of in-tool chat',\n    'Automated long-form report on request',\n    \"Other: Please describe any Other mechanisms that you have in place in the event that an end user wishes to challenge the system's decisions\",\n    'None of the above']},\n  {'category': 'Scope',\n   'type': 'multiple',\n   'question': 'Tick each of the following guidance/training methods available to or undertaken by the end users.',\n   'options': ['Workshop',\n    'Online training',\n    'Assessment',\n    'Help pages',\n    'Repository documentation(e.g. Model Cards)',\n    'In-tool guidance',\n    'Other: Please describe any Other guidance/training methods available to or undertaken by the end users.',\n    'None of the above']},\n  {'category': 'Scope',\n   'type': 'single',\n   'question': 'How widely deployed is the system?',\n   'options': ['Controlled Environment / Pilot',\n    'Local to a jurisdiction that my organisation operates within',\n    'Across multiple jurisdictions that my organisation operates within',\n    'Global']},\n  {'category': 'Scope',\n   'type': 'description',\n   'question': \"Please provide detail regarding the system's scope and interaction with users:\"},\n  {'category': 'Data Type',\n   'type': 'multiple',\n   'question': 'What is/are the data type(s) being processed or generated as an outcome of the system (choose as many as appropriate)?',\n   'options': ['Public',\n    'Internal',\n    'Confidential',\n    'Personal Data',\n    'Sensitive Personal Data',\n    'Restricted Information']},\n  {'category': 'Data Type',\n   'type': 'multiple',\n   'question': 'Select the data source / provenance:',\n   'options': ['Customers',\n    'Clients',\n    'Employees',\n    'Internal Business',\n    'Third-party dataset (sourced from vendor)',\n    'Experimental / Public or Open source dataset',\n    'Other']},\n  {'category': 'Data Type',\n   'type': 'multiple',\n   'question': 'Select the data category:',\n   'options': ['Textual',\n    'Tabular or transactional',\n    'Sound / Voice',\n    'Image',\n    'Other: Please describe any Other data categories that are used.']},\n  {'category': 'Data Type',\n   'type': 'single',\n   'question': 'Are the data subjects (customers, employees, etc.) able to opt-out from being processed by the system?',\n   'options': ['Yes', 'No']},\n  {'category': 'Data Type',\n   'type': 'single',\n   'question': \"Do you have a process in place against data subjects' request for deletion of their personal data?\",\n   'options': ['Yes', 'No']},\n  {'category': 'Data Type',\n   'type': 'description',\n   'question': 'Please provide detail regarding the data used or generated by the system below:'},\n  {'category': 'Mission Critical',\n   'type': 'single',\n   'question': 'What level of autonomy does the system have?',\n   'options': ['Autonomous - e.g., outputs are communicated before internal review',\n    'Human-in-the-loop - e.g., used for decision support']},\n  {'category': 'Mission Critical',\n   'type': 'single',\n   'question': 'How essential is the system to the business application if the level of autonomy is Autonomous?',\n   'options': ['Not essential - its experimental or run locally in a controlled environment',\n    'Essential - without it there will be disruptions or business application will not be fulfilled']},\n  {'category': 'Mission Critical',\n   'type': 'single',\n   'question': 'How essential is the system to the business application if the level of autonomy is Human-in-the-loop?',\n   'options': ['Low - the system informs decisions but not in a substantial manner',\n    'Medium - the system is an important part of the decision-making process',\n    'High - the system is a very important part of the decision-making process and, without it, disruptions may be experienced']},\n  {'category': 'Mission Critical',\n   'type': 'single',\n   'question': 'If the system substantially fails to meet its KPIs (which may include system failure), what would be the damage caused to the broader organisation?',\n   'options': ['None - associated business functions, services, and processes will not be impacted',\n    'Minor - some impact to the business unit, but will not be felt across the organisation',\n    'Major - few services interrupted, business functions or customers will be impacted',\n    'Critical - many downstream services interrupted, business functions or customers will be severely impacted']},\n  {'category': 'Mission Critical',\n   'type': 'description',\n   'question': 'Please provide detail regarding the impact of system underperformance below.'},\n  {'category': 'Technology',\n   'type': 'multiple',\n   'question': 'Which capabilities does the system have?',\n   'options': ['Computer Vision',\n    'Natural Language Processing',\n    'Recommendation Systems',\n    'Speech Recognition',\n    'Robotic Process Automation',\n    'Decision Support Systems',\n    'Knowledge-base',\n    'Virtual Agents',\n    'Topic Modelling',\n    'Segmentation and Curation',\n    'Not decided / Unsure',\n    'Other: Please describe the Other capabilities.']},\n  {'category': 'Technology',\n   'type': 'multiple',\n   'question': 'Which tasks are being performed by the system?',\n   'options': ['Forecasting',\n    'Clustering',\n    'Pattern Recognition',\n    'Inference',\n    'Optimization',\n    'Simulation',\n    'Search',\n    'Not decided / Unsure',\n    'Other: Please describe the Other tasks.']},\n  {'category': 'Technology',\n   'type': 'multiple',\n   'question': 'What is the output generated by your system?',\n   'options': ['Single number or array of numbers',\n    'Labels or categories',\n    'Rank',\n    'Natural language text',\n    'Image',\n    'Video',\n    'Sound or speech',\n    'Not decided / Unsure',\n    'Other: Please describe the Other outputs.']},\n  {'category': 'Technology',\n   'type': 'single',\n   'question': 'Is the system self-adapting based on new information or user interactions?',\n   'options': ['Yes, in near real-time',\n    'Yes, but only when software updates are made',\n    'No, changes are only made when bugs or other issues are raised']},\n  {'category': 'Technology',\n   'type': 'description',\n   'question': 'Please provide detail regarding the technological capability of the system below.'}]}"
     },
     "execution_count": 10,
     "metadata": {},
     "output_type": "execute_result"
    }
   ],
   "source": [
    "with open(\"questions.json\") as f:\n",
    "    questions = json.load(f)\n",
    "questions"
   ],
   "metadata": {
    "collapsed": false,
    "ExecuteTime": {
     "end_time": "2023-07-26T15:55:01.192042Z",
     "start_time": "2023-07-26T15:55:01.185875Z"
    }
   }
  },
  {
   "cell_type": "code",
   "execution_count": 11,
   "outputs": [
    {
     "name": "stdout",
     "output_type": "stream",
     "text": [
      "For Ownership & Hierarchy, the project function are:\n",
      "['Audit', 'Finance', 'Legal', 'Supply Chain', 'Data & Analytics', 'Information Technology', 'Research & Development', 'Customer Development', 'Human Resources', 'Operations', 'Communications', 'General Management', 'Marketing & CMI']\n"
     ]
    }
   ],
   "source": [
    "question1 = questions['questionnaire'][1]['question']\n",
    "option1 = questions['questionnaire'][1]['options']\n",
    "\n",
    "selected_question_multi = question1\n",
    "selected_option_multi  = option1\n",
    "search_str_multi = selected_question_multi+str(selected_option_multi)\n",
    "print(selected_question_multi)\n",
    "print(selected_option_multi)"
   ],
   "metadata": {
    "collapsed": false,
    "ExecuteTime": {
     "end_time": "2023-07-26T15:55:01.194772Z",
     "start_time": "2023-07-26T15:55:01.192156Z"
    }
   }
  },
  {
   "cell_type": "code",
   "execution_count": 12,
   "outputs": [
    {
     "data": {
      "text/plain": "['\\nThe world of Human Resources (HR) is a domain of perpetual dynamics, characterized by continuous interactions, decision-making, and evaluation.',\n 'Within this multifaceted milieu, a prominent embodiment of Artificial Intelligence (AI) has emerged as a game-changer: meet \"Emplify\", a state-of-the-art AI-powered employee engagement and performance management platform.\\n\\n',\n 'Emplify has been engineered to masterfully merge AI capabilities with HR processes, focusing on enhancing employee engagement, facilitating performance management, and informing data-driven HR decisions.',\n 'By leveraging natural language processing (NLP), machine learning, and predictive analytics, Emplify enables a nuanced understanding of employee sentiments, aspirations, and behavior patterns, thereby enriching the HR management landscape.\\n\\n',\n 'At its core, Emplify performs comprehensive analysis of both qualitative and quantitative employee data.',\n 'The AI system swiftly scans through a plethora of data sources - including surveys, performance evaluations, and digital communications.',\n 'It goes beyond just number crunching and recognizes patterns, gauges sentiment, and interprets tacit knowledge concealed within unstructured data.\\n\\n',\n \"In the sphere of performance management, Emplify's AI has been harnessed to create a fair, objective, and consistent evaluation system.\",\n 'Its predictive analytics capability aids in identifying future performance trends and potential employee churn, enabling HR teams to proactively strategize and respond.\\n\\n',\n 'Moreover, Emplify learns continuously, adapting and improving its analysis and recommendations based on user interactions and feedback.',\n 'This continual learning embodies the concept of AI’s autodidactic capabilities, allowing for a highly personalized and evolving user experience.\\n\\n',\n 'However, in the midst of this technological breakthrough, it is crucial to consider the ethical implications of integrating AI in HR, particularly in regards to data privacy and algorithmic fairness.',\n 'Unbiased algorithms, data security, and respectful employee privacy are paramount considerations that must be diligently maintained.\\n\\n',\n \"In summary, AI systems such as Emplify represent the dawn of a new era in Human Resources, one that harmonizes human decision-making with AI's analytical prowess.\",\n 'These systems pose significant potential, ushering in transformative changes in the HR landscape, while simultaneously presenting new challenges to be navigated responsibly and ethically.\\n']"
     },
     "execution_count": 12,
     "metadata": {},
     "output_type": "execute_result"
    }
   ],
   "source": [
    "qa_system.create_paragraphs(example_text)"
   ],
   "metadata": {
    "collapsed": false,
    "ExecuteTime": {
     "end_time": "2023-07-26T15:55:01.272491Z",
     "start_time": "2023-07-26T15:55:01.198673Z"
    }
   }
  },
  {
   "cell_type": "code",
   "execution_count": 13,
   "outputs": [
    {
     "data": {
      "text/plain": "Batches:   0%|          | 0/1 [00:00<?, ?it/s]",
      "application/vnd.jupyter.widget-view+json": {
       "version_major": 2,
       "version_minor": 0,
       "model_id": "f0266353f42e4bbc952e66866fa35ceb"
      }
     },
     "metadata": {},
     "output_type": "display_data"
    },
    {
     "data": {
      "text/plain": "Batches:   0%|          | 0/1 [00:00<?, ?it/s]",
      "application/vnd.jupyter.widget-view+json": {
       "version_major": 2,
       "version_minor": 0,
       "model_id": "9d3a4e12e0614d9da704b9692a09eb06"
      }
     },
     "metadata": {},
     "output_type": "display_data"
    },
    {
     "name": "stdout",
     "output_type": "stream",
     "text": [
      "[ 0.22560075  0.17246443  0.22670834  0.18237607  0.2507618   0.18245178\n",
      "  0.20089443  0.17636386  0.17732492 -0.01743981  0.06800747  0.1572057\n",
      "  0.1437474   0.21762419  0.17483985]\n"
     ]
    },
    {
     "data": {
      "text/plain": "\"\\nThe world of Human Resources (HR) is a domain of perpetual dynamics, characterized by continuous interactions, decision-making, and evaluation. Emplify has been engineered to masterfully merge AI capabilities with HR processes, focusing on enhancing employee engagement, facilitating performance management, and informing data-driven HR decisions. At its core, Emplify performs comprehensive analysis of both qualitative and quantitative employee data. It goes beyond just number crunching and recognizes patterns, gauges sentiment, and interprets tacit knowledge concealed within unstructured data.\\n\\n In summary, AI systems such as Emplify represent the dawn of a new era in Human Resources, one that harmonizes human decision-making with AI's analytical prowess.\""
     },
     "execution_count": 13,
     "metadata": {},
     "output_type": "execute_result"
    }
   ],
   "source": [
    "selected_text = qa_system.get_similar_paragraphs(search_str_multi,threshold=0.2)\n",
    "selected_text"
   ],
   "metadata": {
    "collapsed": false,
    "ExecuteTime": {
     "end_time": "2023-07-26T15:55:01.389952Z",
     "start_time": "2023-07-26T15:55:01.266815Z"
    }
   }
  },
  {
   "cell_type": "code",
   "execution_count": 14,
   "outputs": [
    {
     "name": "stdout",
     "output_type": "stream",
     "text": [
      "[['Audit', 'Finance', 'Legal', 'Supply Chain', 'Data & Analytics', 'Information Technology', 'Research & Development', 'Customer Development', 'Human Resources', 'Operations', 'Communications', 'General Management', 'Marketing & CMI'], [0.020554186776280403, 0.0050886101089417934, 0.007435772567987442, 0.005290585104376078, 0.1851184368133545, 0.0467793270945549, 0.09547492116689682, 0.0031756290700286627, 0.46819475293159485, 0.08334694057703018, 0.01545038353651762, 0.05447177216410637, 0.009618663229048252]]\n"
     ]
    }
   ],
   "source": [
    "answer_multi = qa_system.answer_question_multi_qa(context=selected_text, question=selected_question_multi,options=selected_option_multi)\n",
    "print(answer_multi)"
   ],
   "metadata": {
    "collapsed": false,
    "ExecuteTime": {
     "end_time": "2023-07-26T15:55:39.938164Z",
     "start_time": "2023-07-26T15:55:01.386094Z"
    }
   }
  },
  {
   "cell_type": "code",
   "execution_count": 15,
   "outputs": [
    {
     "data": {
      "text/plain": "Batches:   0%|          | 0/1 [00:00<?, ?it/s]",
      "application/vnd.jupyter.widget-view+json": {
       "version_major": 2,
       "version_minor": 0,
       "model_id": "9276bfb14d664d21a8fc18f95d17e4ab"
      }
     },
     "metadata": {},
     "output_type": "display_data"
    },
    {
     "data": {
      "text/plain": "Batches:   0%|          | 0/1 [00:00<?, ?it/s]",
      "application/vnd.jupyter.widget-view+json": {
       "version_major": 2,
       "version_minor": 0,
       "model_id": "87b3b9c597434ef9b196040f13517673"
      }
     },
     "metadata": {},
     "output_type": "display_data"
    },
    {
     "name": "stdout",
     "output_type": "stream",
     "text": [
      "[0.23309773 0.3400941  0.30801067 0.2797255  0.30105382 0.18793589\n",
      " 0.29263857 0.22813746 0.22454378 0.1726288  0.25218898 0.20935394\n",
      " 0.18934976 0.2933966  0.24124946]\n"
     ]
    },
    {
     "data": {
      "text/plain": "Batches:   0%|          | 0/1 [00:00<?, ?it/s]",
      "application/vnd.jupyter.widget-view+json": {
       "version_major": 2,
       "version_minor": 0,
       "model_id": "923dab2abb384779bfe276fcc4801244"
      }
     },
     "metadata": {},
     "output_type": "display_data"
    },
    {
     "data": {
      "text/plain": "Batches:   0%|          | 0/1 [00:00<?, ?it/s]",
      "application/vnd.jupyter.widget-view+json": {
       "version_major": 2,
       "version_minor": 0,
       "model_id": "a9463c668f5b4bd29e6019f00a5afa99"
      }
     },
     "metadata": {},
     "output_type": "display_data"
    },
    {
     "name": "stdout",
     "output_type": "stream",
     "text": [
      "[ 0.22560075  0.17246443  0.22670834  0.18237607  0.2507618   0.18245178\n",
      "  0.20089443  0.17636386  0.17732492 -0.01743981  0.06800747  0.1572057\n",
      "  0.1437474   0.21762419  0.17483985]\n"
     ]
    },
    {
     "name": "stderr",
     "output_type": "stream",
     "text": [
      "INFO:root:60.85014295578003 in total, 30.425071477890015 for each inference\n"
     ]
    },
    {
     "data": {
      "text/plain": "[{'question': 'For Experience, this project enhances:',\n  'answer': ['Employee Experience']},\n {'question': 'For Ownership & Hierarchy, the project function are:',\n  'answer': ['Human Resources']}]"
     },
     "execution_count": 15,
     "metadata": {},
     "output_type": "execute_result"
    }
   ],
   "source": [
    "import logging\n",
    "import time\n",
    "\n",
    "questions = qa_system.load_questions()\n",
    "qa_system.create_paragraphs(example_text)\n",
    "relevant_questions = questions['questionnaire'][0:2]\n",
    "\n",
    "start_time = time.time()\n",
    "\n",
    "result = qa_system.process_questions(relevant_questions)\n",
    "\n",
    "end_time = time.time()\n",
    "\n",
    "total_time = end_time - start_time\n",
    "avg_time_per_question = total_time / len(relevant_questions)\n",
    "\n",
    "logging.info(f\"{total_time} in total, {avg_time_per_question} for each inference\")\n",
    "result"
   ],
   "metadata": {
    "collapsed": false,
    "ExecuteTime": {
     "end_time": "2023-07-26T15:56:41.082675Z",
     "start_time": "2023-07-26T15:55:39.903322Z"
    }
   }
  },
  {
   "cell_type": "code",
   "execution_count": 16,
   "outputs": [
    {
     "data": {
      "text/plain": "[{'question': 'For Experience, this project enhances:',\n  'answer': ['Employee Experience']},\n {'question': 'For Ownership & Hierarchy, the project function are:',\n  'answer': ['Human Resources']}]"
     },
     "execution_count": 16,
     "metadata": {},
     "output_type": "execute_result"
    }
   ],
   "source": [
    "result"
   ],
   "metadata": {
    "collapsed": false,
    "ExecuteTime": {
     "end_time": "2023-07-26T15:56:41.111923Z",
     "start_time": "2023-07-26T15:56:41.039391Z"
    }
   }
  },
  {
   "cell_type": "code",
   "execution_count": 16,
   "outputs": [],
   "source": [],
   "metadata": {
    "collapsed": false,
    "ExecuteTime": {
     "end_time": "2023-07-26T15:56:41.607654Z",
     "start_time": "2023-07-26T15:56:41.074956Z"
    }
   }
  }
 ],
 "metadata": {
  "kernelspec": {
   "display_name": "Python 3",
   "language": "python",
   "name": "python3"
  },
  "language_info": {
   "codemirror_mode": {
    "name": "ipython",
    "version": 2
   },
   "file_extension": ".py",
   "mimetype": "text/x-python",
   "name": "python",
   "nbconvert_exporter": "python",
   "pygments_lexer": "ipython2",
   "version": "2.7.6"
  }
 },
 "nbformat": 4,
 "nbformat_minor": 0
}
