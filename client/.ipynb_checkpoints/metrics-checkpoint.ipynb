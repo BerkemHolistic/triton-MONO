{
 "cells": [
  {
   "cell_type": "code",
   "execution_count": 35,
   "id": "0a12f28e-020b-48b2-8ced-da06cc688fab",
   "metadata": {},
   "outputs": [],
   "source": [
    "qa_result = [{'question': 'Project Description', 'answer': ['Sova Assessments is a new, innovative, and cost-effective tool that helps employers identify and hire the right people for the right jobs. It is based on a combination of science, technology, and artificial intelligence. It allows employers to conduct a wide variety of tests, including live two-way and virtual interviews, and it supports a wide range of candidate types. The Sova assessment platform is designed to be accessible to a wide array of people with different needs, including people with learning disabilities, blind people, deaf people, and people with limited movement. The assessment platform also supports a number of other features, such as real-time validation of the results, machine learning, and intelligent analytics. Sova\\'s four principles for diversity and inclusion are outlined. The four principles are: 1) Diversity and Inclusion, 2) Fair assessment methods, 3) Assessment format blended approach, 4) Assessment design, and 5) Ongoing optimisation. The project will be a pilot of a new assessment platform called Sova. It will provide candidates with access to the assessment platform and will be used in the selection process for new hires. The personal information collected will be anonymized and will only be used for the purpose of this project. The privacy questions asked in this document are designed to help you understand the privacy implications of this new project. You are asked to demonstrate accountability and governance. The questions ask you to provide more information about your project and activity. The first question asks you to describe the purpose and objectives of the project. Next, the questions ask about the personal data that you will collect. The answer is that it will be collected directly from the candidates. The candidates will be asked to sign up for the platform and to provide their personal information. The process will be conducted via an assessment tool called \"Sova Assessment.\" The personal data collected is stored in the AWS/Cloud computing environment. The company will use Sova to conduct the assessment and will then use the results to develop its own assessment tools. Personal data will be retained for as long and as necessary to ensure that the process is fair and accurate. The candidate will be notified of the process and the company will obtain their consent to use their personal data for the purposes outlined in the project\\'s privacy notice.'], 'mapping': 'description'}, {'question': \"Please provide any detail regarding the AI system's use-case.\", 'answer': 'The AI system will be used to automate the process of assessing candidates. It will be used to evaluate candidates based on their skills, experience, and qualifications. The AI system will be used to assess candidates for a wide range of roles, including roles in', 'mapping': 'detailSystemUseCase'}, {'question': 'Describe the external entities involved.', 'answer': 'The external entities involved in this project are: 1. Candidates: These are individuals who are interested in applying for jobs. 2. Employers: These are the companies that are looking for employees. 3. Sova: Sova is a', 'mapping': 'describeOtherExternalParties'}, {'question': 'Please describe any Internal parties.', 'answer': 'The internal parties are the company and its employees.', 'mapping': 'describeOtherInternalParties'}, {'question': 'Detail any methods used to inform users about the AI system being automated.', 'answer': 'You will need to inform users about the AI system being automated by sending a notification to their email address. You can also inform them through social media or by other means of communication. The notification should explain the purpose of the automation, and provide a link', 'mapping': 'explainUserInformedAboutAutomedSystemOther'}, {'question': \"Describe the provisions in place for users wanting to question or challenge the AI system's decisions.\", 'answer': 'The AI system will be able to provide users with a method for challenging its decisions. Users will be able to provide feedback on the decisions made by the AI system. They will be able to provide a reason for their challenge and the AI system will have', 'mapping': 'explainMechanismsIfUserChallengesDecisionsOther'}, {'question': 'Please describe any guidance/training methods available to or undertaken by the end users.', 'answer': \"'The end users of the Sova Assessment platform will receive guidance and training on how to use the platform. The guidance will be provided in the form of a user manual and will be available on the platform. The training will be available online and\", 'mapping': 'explainTrainingMethodsOther'}, {'question': \"Please provide detail regarding the AI system's scope and interaction with users:\", 'answer': 'The AI system will be used to assess candidates and provide them with personalized test results. It will interact with users in the following ways: 1. Collecting personal data from candidates upon registration. 2. Providing personalized test results to candidates.', 'mapping': 'systemScopeDetails'}, {'question': 'Please describe any data sources that are used.', 'answer': 'The personal data collected will be stored in the AWS/Cloud computing environment. The company will use Sova to conduct the assessment and will then use the results to develop its own assessment tools. Personal data will be retained for as long and as necessary to', 'mapping': 'explainDataSourceOther'}, {'question': 'Please describe any data categories, types or formats that are used.', 'answer': 'Please provide the personal data categories, types or formats that will be collected from the candidates.', 'mapping': 'explainDataCategoryOther'}, {'question': 'How are individuals notified about their option to opt-out?', 'answer': \"Individuals are notified about their option to opt-out by providing a link to the privacy notice, which includes a summary of the project\\\\'s privacy notice.\", 'mapping': 'explainInformedOfOptOutMechanismOther'}, {'question': 'Elaborate on the nature and use of data within the AI system.', 'answer': 'The AI system uses data to make predictions, provide insights, and generate useful information. Data can be used to train the AI system to make decisions and to improve the accuracy of the results. Data can also be used to identify trends, detect patterns,', 'mapping': 'detailDataUsed'}, {'question': 'Please provide detail regarding the impact of AI system underperformance below.', 'answer': 'AI system underperformance can have a range of consequences, depending on the severity and frequency of the issue. In some cases, it can lead to poor customer service, decreased user satisfaction, and a loss of trust in the system. In more', 'mapping': 'explainImpactOfUnderPerformance'}, {'question': 'Please describe the AI system capabilities.', 'answer': 'The AI system capabilities will be able to assess and evaluate candidates on a large scale, based on their individual skills and experience. The AI system will be able to analyze and interpret large amounts of data, including candidate profiles, interview questions, and past performance', 'mapping': 'explainCapabilitiesOther'}, {'question': 'Please describe the AI system tasks or function.', 'answer': 'The AI system tasks or function involves using machine learning and artificial intelligence to assess candidates for job positions. The AI system will use a combination of data from the candidates, such as their resumes, interviews, and assessments, to determine whether they are a good', 'mapping': 'explainTasksPerformedBySystemOther'}, {'question': 'Please describe the AI system outputs.', 'answer': 'The AI system outputs can be used to make decisions, provide insights, and automate processes. In this project, the AI system outputs can be used to provide personalized assessments and recommendations to candidates based on their responses. Additionally, the AI system outputs can be', 'mapping': 'explainOutputGeneratedOther'}, {'question': 'Please provide detail regarding the technological capability of the AI system.', 'answer': 'The AI system will use machine learning algorithms and other technologies to analyze the candidate data and provide a tailored assessment. The AI system is designed to be accessible to a wide range of people, including people with learning disabilities, blind people, deaf people, and', 'mapping': 'explainTechnologicalCapabilities'}, {'question': 'What is the name of the AI system or project?', 'answer': 'Sova Assessments', 'mapping': 'title'}, {'question': 'Which experiences does this project enhance?', 'answer': ['employeeExperience'], 'mapping': 'experience'}, {'question': \"Which functions relate to the project's ownership and hierarchy?\", 'answer': ['operationsFunction'], 'mapping': 'function'}, {'question': 'Which of the following enterprise use-cases apply to your solution?', 'answer': ['recruitment'], 'mapping': 'enterpriseUseCases'}, {'question': 'How does this solution impact society?', 'answer': ['soceityLevelNone'], 'mapping': 'soceityLevel'}, {'question': 'Does the AI system interact with outsiders?', 'answer': 'yes', 'mapping': 'externalParties'}, {'question': 'Which outsiders does the AI system engage with?', 'answer': ['externalPartiesOther'], 'mapping': 'whoAreExternalParties'}, {'question': 'Which internal groups are involved?', 'answer': ['employees', 'internalPartiesOther'], 'mapping': 'whoAreInternalParties'}, {'question': 'Is the user explicitly informed that they are interacting with an automated AI system?', 'answer': 'yes', 'mapping': 'clearCommunicatedAutomatedSystem'}, {'question': \"What methods are used to notify the user about the AI system's automated nature?\", 'answer': ['forms', 'userInformedOther'], 'mapping': 'howIsUserInformedAboutAutomatedSystem'}, {'question': \"What options are available for users who want to contest the AI system's decisions?\", 'answer': ['mechanismsIfUserChallengesDecisionsOther'], 'mapping': 'mechanismsIfUserChallengesDecisions'}, {'question': 'Which of the following training or guidance resources are accessible to users?', 'answer': ['helpPages'], 'mapping': 'trainingMethods'}, {'question': 'How widely deployed is the AI system?', 'answer': 'global', 'mapping': 'howWidelyDeployed'}, {'question': 'What is/are the data type(s) being processed or generated as an outcome of the AI system?', 'answer': ['dataTypeConfidential', 'dataTypePersonal'], 'mapping': 'dataType'}, {'question': 'From where is the data sourced or originated?', 'answer': ['experimental'], 'mapping': 'dataSource'}, {'question': 'What best describes the nature or format of the data?', 'answer': ['dataCategoryOther'], 'mapping': 'dataCategory'}, {'question': 'Can individuals (like customers, employees) choose not to have their data processed by this AI system?', 'answer': 'yes', 'mapping': 'dataSubjectsAbleToOptOut'}, {'question': 'How do individuals learn about the option to opt-out?', 'answer': ['forms', 'informedOfOptOutMechanismOther'], 'mapping': 'informedOfOptOutMechanism'}, {'question': 'Is there a procedure to handle requests from individuals to delete their personal data?', 'answer': 'yes', 'mapping': 'deletionOfPersonalData'}, {'question': 'To what degree does the AI system operate independently?', 'answer': 'humanInTheLoop', 'mapping': 'autonomy'}, {'question': 'If the AI system is fully autonomous, how crucial is it to the business operations?', 'answer': 'notEssential', 'mapping': 'howEssentialAutonomous'}, {'question': 'When the AI system operates with human supervision, how vital is it to the decision-making process?', 'answer': 'medium', 'mapping': 'howEssentialHumanInTheLoop'}, {'question': 'Should the AI system drastically fail or not meet its performance indicators, how would the wider organization be affected?', 'answer': 'minor', 'mapping': 'damageCausedIfSubstantialFailure'}, {'question': 'If the AI system only marginally fails to meet its KPIs (a \"near miss\"), what would be the damage caused to the broader organisation?', 'answer': 'none', 'mapping': 'damageCausedIfMarginalFailure'}, {'question': 'Which technological features does the AI system have?', 'answer': ['rpa'], 'mapping': 'capabilities'}, {'question': 'Which tasks or function are being performed or execute by the AI system?', 'answer': ['tasksPerformedBySystemNotDecided'], 'mapping': 'tasksPerformedBySystem'}, {'question': 'What is the output generated by the AI system?', 'answer': ['numbers', 'outputGeneratedNotDecided'], 'mapping': 'outputGenerated'}, {'question': 'Is the AI system self-adapting based on new information or user interactions?', 'answer': 'yesRealTime', 'mapping': 'selfAdapting'}, {'question': \"Are the AI system's users able to opt-out from using the AI system?\", 'answer': 'yes', 'mapping': 'canUsersOptOut'}]"
   ]
  },
  {
   "cell_type": "code",
   "execution_count": 53,
   "id": "ec6ef704-06b4-46c0-a322-582d5fc4f100",
   "metadata": {},
   "outputs": [],
   "source": [
    "risk_mapping_dict = {'title': 'Sova Assessments', 'description': ['Sova Assessments is a new, innovative, and cost-effective tool that helps employers identify and hire the right people for the right jobs. It is based on a combination of science, technology, and artificial intelligence. It allows employers to conduct a wide variety of tests, including live two-way and virtual interviews, and it supports a wide range of candidate types. The Sova assessment platform is designed to be accessible to a wide array of people with different needs, including people with learning disabilities, blind people, deaf people, and people with limited movement. The assessment platform also supports a number of other features, such as real-time validation of the results, machine learning, and intelligent analytics. Sova\\'s four principles for diversity and inclusion are outlined. The four principles are: 1) Diversity and Inclusion, 2) Fair assessment methods, 3) Assessment format blended approach, 4) Assessment design, and 5) Ongoing optimisation. The project will be a pilot of a new assessment platform called Sova. It will provide candidates with access to the assessment platform and will be used in the selection process for new hires. The personal information collected will be anonymized and will only be used for the purpose of this project. The privacy questions asked in this document are designed to help you understand the privacy implications of this new project. You are asked to demonstrate accountability and governance. The questions ask you to provide more information about your project and activity. The first question asks you to describe the purpose and objectives of the project. Next, the questions ask about the personal data that you will collect. The answer is that it will be collected directly from the candidates. The candidates will be asked to sign up for the platform and to provide their personal information. The process will be conducted via an assessment tool called \"Sova Assessment.\" The personal data collected is stored in the AWS/Cloud computing environment. The company will use Sova to conduct the assessment and will then use the results to develop its own assessment tools. Personal data will be retained for as long and as necessary to ensure that the process is fair and accurate. The candidate will be notified of the process and the company will obtain their consent to use their personal data for the purposes outlined in the project\\'s privacy notice.'],'enterpriseUseCases': ['enterpriseNone'], 'soceityLevel': ['soceityLevelNone'], 'detailSystemUseCase': 'The AI system will be used to provide personalized assessment and feedback to candidates. The AI system will be used to assess candidates on a range of criteria, including their skills, experience, and personality. The AI system will be used to provide personalized feedback to', 'externalParties': 'yes', 'whoAreExternalParties': ['externalPartiesOther'], 'describeOtherExternalParties': 'In this case, external entities involved are the assessment tool provider, Sova Assessments, and the candidates. The assessment tool provider will be responsible for providing the Sova Assessment platform and its services, while the candidates will be responsible for providing their personal', 'whoAreInternalParties': ['internalPartiesOther'], 'describeOtherInternalParties': 'Internal parties are those who are involved in the assessment process. They include: Sova Assessment Platform Sova Assessment Platform is the company that will be used to conduct the assessment process. Sova Assessment Platform is a cloud-based platform that will be used', 'clearCommunicatedAutomatedSystem': 'yes', 'howIsUserInformedAboutAutomatedSystem': ['popup', 'userInformedOther'], 'explainUserInformedAboutAutomedSystemOther': 'The project will use the following methods to inform users about the AI system being automated: 1) Create a landing page on the website to provide information about the AI system and how it works. 2) Create a video that will explain the AI', 'mechanismsIfUserChallengesDecisions': ['longFormReport'], 'explainMechanismsIfUserChallengesDecisionsOther': 'The AI system will be programmed to provide users the ability to challenge or question the decisions made by the AI system. The users will be able to request a review of the results and to report any issues or concerns they have. The AI system will also', 'trainingMethods': ['trainingMethodsNone'], 'explainTrainingMethodsOther': 'Sova is designed to be accessed by a wide range of people with different needs, including people with learning disabilities, blind people, deaf people, and people with limited movement. The assessment platform is designed to be accessible to a wide array of people with', 'howWidelyDeployed': 'global', 'systemScopeDetails': 'The AI system will be used to assess candidates for the selection process. The AI system will be used to assess candidates for the selection process. The AI system will not be used for the selection process, but rather to provide guidance and recommendations to the hiring', 'dataType': ['dataTypeConfidential'], 'dataSource': ['dataSourceOther'], 'explainDataSourceOther': 'The personal data collected is stored in an AWS/Cloud computing environment. The company will use Sova to conduct the assessment and will then use the results to develop its own assessment tools. Personal data will be retained for as long and as necessary to ensure', 'dataCategory': ['textual', 'dataCategoryOther'], 'explainDataCategoryOther': 'The personal data collected will be stored in an AWS/Cloud computing environment. The personal information collected will be anonymized. The company will use Sova to conduct the assessment and will then use the results to develop its own assessment tools. Personal data will', 'dataSubjectsAbleToOptOut': 'yes', 'informedOfOptOutMechanism': ['forms'], 'explainInformedOfOptOutMechanismOther': 'Individuals are notified about their option to opt-out via a privacy notice. The privacy notice informs individuals that their personal data will be collected and used for the purpose of assessing their suitability for a particular job. They are also informed that their data will be', 'deletionOfPersonalData': 'yes', 'detailDataUsed': \"'Sova Assessments is a new, innovative, and cost-effective tool that helps employers identify and hire the right people for the right jobs. It is based on a combination of science, technology, and artificial intelligence. It allows employers to\", 'autonomy': 'humanInTheLoop', 'howEssentialAutonomous': 'notEssential', 'howEssentialHumanInTheLoop': 'medium', 'damageCausedIfSubstantialFailure': 'minor', 'damageCausedIfMarginalFailure': 'none', 'explainImpactOfUnderPerformance': 'The impact of AI system underperformance can have serious consequences. It can lead to a loss of trust in the AI system, which can cause users to become hesitant to use the system. This can have a knock-on effect on the accuracy and reliability', 'capabilities': ['capabilitiesNotDecided'], 'explainCapabilitiesOther': 'The AI system will be able to perform a wide range of tasks, including assessing candidate skills, assessing job fit, and assessing job performance. It will be able to identify and analyze a wide range of data sources, including candidate resumes, interview notes,', 'tasksPerformedBySystem': ['tasksPerformedBySystemNotDecided'], 'explainTasksPerformedBySystemOther': 'The AI system tasks or function of the project are to provide a platform for the assessment of candidates. The AI system will be used to assess candidates for selection purposes. The AI system will be used to assess candidates for selection purposes. The AI system will', 'outputGenerated': ['outputGeneratedNotDecided'], 'explainOutputGeneratedOther': 'The AI system outputs will be used to assess candidates based on their responses to the assessment questions. The AI system outputs will be used to provide feedback to the candidates based on their performance. The AI system outputs will also be used to develop assessment tools to', 'selfAdapting': 'yesRealTime', 'canUsersOptOut': 'yes', 'explainTechnologicalCapabilities': 'The AI system is designed to be accessible to a wide array of people with different needs, including people with learning disabilities, blind people, deaf people, and people with limited movement. The assessment platform supports a number of other features, such as real-'}"
   ]
  },
  {
   "cell_type": "code",
   "execution_count": 81,
   "id": "9b95016c-720b-485a-975d-cc2b6d9f5e1f",
   "metadata": {},
   "outputs": [
    {
     "name": "stdout",
     "output_type": "stream",
     "text": [
      "dict_keys(['riskUnitId', 'riskUnitName', 'projectId', 'projectName', 'projectDescription', 'riskUnitDescription', 'riskMapping', 'projectDetailsFiles', 'riskMappingSupplementaryFiles'])\n"
     ]
    },
    {
     "ename": "NameError",
     "evalue": "name 'np' is not defined",
     "output_type": "error",
     "traceback": [
      "\u001b[0;31m---------------------------------------------------------------------------\u001b[0m",
      "\u001b[0;31mNameError\u001b[0m                                 Traceback (most recent call last)",
      "Cell \u001b[0;32mIn[81], line 55\u001b[0m\n\u001b[1;32m     52\u001b[0m riskUnitId \u001b[38;5;241m=\u001b[39m \u001b[38;5;124m\"\u001b[39m\u001b[38;5;124mbab80184-1d37-4a43-8a92-866f80f80cfd\u001b[39m\u001b[38;5;124m\"\u001b[39m\n\u001b[1;32m     53\u001b[0m qa_results \u001b[38;5;241m=\u001b[39m qa_result  \n\u001b[0;32m---> 55\u001b[0m accuracy \u001b[38;5;241m=\u001b[39m \u001b[43mcompute_similarity_metrics\u001b[49m\u001b[43m(\u001b[49m\u001b[43mdata_path\u001b[49m\u001b[43m,\u001b[49m\u001b[43m \u001b[49m\u001b[43mriskUnitId\u001b[49m\u001b[43m,\u001b[49m\u001b[43m \u001b[49m\u001b[43mrisk_mapping_dict\u001b[49m\u001b[43m)\u001b[49m\n\u001b[1;32m     56\u001b[0m \u001b[38;5;28mprint\u001b[39m(\u001b[38;5;124mf\u001b[39m\u001b[38;5;124m\"\u001b[39m\u001b[38;5;124mAccuracy: \u001b[39m\u001b[38;5;132;01m{\u001b[39;00maccuracy\u001b[38;5;250m \u001b[39m\u001b[38;5;241m*\u001b[39m\u001b[38;5;250m \u001b[39m\u001b[38;5;241m100\u001b[39m\u001b[38;5;132;01m:\u001b[39;00m\u001b[38;5;124m.2f\u001b[39m\u001b[38;5;132;01m}\u001b[39;00m\u001b[38;5;124m%\u001b[39m\u001b[38;5;124m\"\u001b[39m)\n",
      "Cell \u001b[0;32mIn[81], line 48\u001b[0m, in \u001b[0;36mcompute_similarity_metrics\u001b[0;34m(data_path, riskUnitId, qa_results)\u001b[0m\n\u001b[1;32m     45\u001b[0m             similar_count \u001b[38;5;241m+\u001b[39m\u001b[38;5;241m=\u001b[39m \u001b[38;5;241m1\u001b[39m\n\u001b[1;32m     47\u001b[0m accuracy \u001b[38;5;241m=\u001b[39m similar_count \u001b[38;5;241m/\u001b[39m involve_count\n\u001b[0;32m---> 48\u001b[0m \u001b[38;5;28mprint\u001b[39m(\u001b[43mnp\u001b[49m\u001b[38;5;241m.\u001b[39mmean(similarity_list))\n\u001b[1;32m     49\u001b[0m \u001b[38;5;28;01mreturn\u001b[39;00m accuracy\n",
      "\u001b[0;31mNameError\u001b[0m: name 'np' is not defined"
     ]
    }
   ],
   "source": [
    "import json\n",
    "from sentence_transformers import SentenceTransformer, util\n",
    "import numpy as np\n",
    "\n",
    "def compute_similarity_metrics(data_path, riskUnitId, qa_results):\n",
    "\n",
    "    model = SentenceTransformer('paraphrase-mpnet-base-v2',device = \"cpu\")\n",
    "\n",
    "    def get_embedding(sentence):\n",
    "        return model.encode(sentence, convert_to_tensor=True)\n",
    "\n",
    "    def compute_cosine_similarity(embedding1, embedding2):\n",
    "        return util.pytorch_cos_sim(embedding1, embedding2).item()\n",
    "\n",
    "    with open(data_path, 'r') as file:\n",
    "        data = json.load(file)\n",
    "    \n",
    "    ground_truth_data = None\n",
    "    for item in data:\n",
    "        if item['riskUnitId'] == riskUnitId:\n",
    "            ground_truth_data = item\n",
    "            break\n",
    "    if not ground_truth_data:\n",
    "        return \"No data found for the provided riskUnitId.\"\n",
    "    similarity_list = []\n",
    "    threshold = 0.3\n",
    "    similar_count = 0\n",
    "    print(ground_truth_data.keys())\n",
    "    involve_count = 0\n",
    "    for key in list(qa_results.keys()):\n",
    "        mapping_key = key\n",
    "        qa_answer = \" \".join(qa_results[key])  \n",
    "        ground_truth_answer = ground_truth_data['riskMapping'].get(mapping_key, \"\")\n",
    "        \n",
    "        if ground_truth_answer != \"\" and len(ground_truth_answer) != 0:\n",
    "            \n",
    "            qa_embedding = get_embedding(\" \".join(qa_answer))\n",
    "            gt_embedding = get_embedding(\" \".join(ground_truth_answer))\n",
    "            \n",
    "            involve_count += 1\n",
    "\n",
    "            similarity = compute_cosine_similarity(qa_embedding, gt_embedding)\n",
    "            similarity_list.append(similarity)\n",
    "            \n",
    "            if similarity >= threshold:\n",
    "                similar_count += 1\n",
    "\n",
    "    accuracy = similar_count / involve_count\n",
    "    print(np.mean(similarity_list))\n",
    "    return accuracy\n",
    "\n",
    "data_path = \"data.json\"\n",
    "riskUnitId = \"bab80184-1d37-4a43-8a92-866f80f80cfd\"\n",
    "qa_results = qa_result  \n",
    "\n",
    "accuracy = compute_similarity_metrics(data_path, riskUnitId, risk_mapping_dict)\n",
    "print(f\"Accuracy: {accuracy * 100:.2f}%\")\n",
    "\n"
   ]
  },
  {
   "cell_type": "code",
   "execution_count": 61,
   "id": "4feca0e4-8607-48c1-9420-c5198a1040fc",
   "metadata": {},
   "outputs": [
    {
     "data": {
      "text/plain": [
       "0.7058961391448975"
      ]
     },
     "execution_count": 61,
     "metadata": {},
     "output_type": "execute_result"
    }
   ],
   "source": [
    "from sentence_transformers import SentenceTransformer, util\n",
    "import json\n",
    "\n",
    "def compare_whole_answers(data_path, riskUnitId, qa_results):\n",
    "    with open(data_path, 'r') as file:\n",
    "        data = json.load(file)\n",
    "    \n",
    "    ground_truth_data = None\n",
    "    for item in data:\n",
    "        if item['riskUnitId'] == riskUnitId:\n",
    "            ground_truth_data = item\n",
    "            break\n",
    " \n",
    "    if not ground_truth_data:\n",
    "        raise ValueError(f\"No ground truth data found for riskUnitId {riskUnitId}\")\n",
    "    ground_truth_combined = str(ground_truth_data)#\" \".join([str(ground_truth_data[item]) for item in list(ground_truth_data.keys())])\n",
    "    qa_combined = str(qa_results)#\" \".join([\" \".join(item['answer']) if isinstance(item['answer'], list) else item['answer'] for item in qa_results])\n",
    "    model = SentenceTransformer('paraphrase-mpnet-base-v2', device='cpu')\n",
    "    \n",
    "    ground_truth_embedding = model.encode(ground_truth_combined, convert_to_tensor=True)\n",
    "    qa_embedding = model.encode(qa_combined, convert_to_tensor=True)\n",
    "    \n",
    "    similarity = util.pytorch_cos_sim(ground_truth_embedding, qa_embedding)\n",
    "    \n",
    "    return float(similarity)\n",
    "\n",
    "riskUnitId = \"bab80184-1d37-4a43-8a92-866f80f80cfd\"##\"62db854c-9b12-4841-ba5a-6a7d50b366fd\"#\"1c2aef6f-cb2b-44a1-bfbb-b69fa1c2f588\"#\"62b861ee-55eb-4281-bd71-5868eeda4917\"#\n",
    "similarity_score = compare_whole_answers(data_path, riskUnitId, risk_mapping_dict)\n",
    "similarity_score"
   ]
  },
  {
   "cell_type": "code",
   "execution_count": null,
   "id": "b4733c63-0517-4f48-b5ec-bf61768bbd53",
   "metadata": {},
   "outputs": [],
   "source": []
  }
 ],
 "metadata": {
  "kernelspec": {
   "display_name": "python310 (Local)",
   "language": "python",
   "name": "local-python310"
  },
  "language_info": {
   "codemirror_mode": {
    "name": "ipython",
    "version": 3
   },
   "file_extension": ".py",
   "mimetype": "text/x-python",
   "name": "python",
   "nbconvert_exporter": "python",
   "pygments_lexer": "ipython3",
   "version": "3.10.12"
  }
 },
 "nbformat": 4,
 "nbformat_minor": 5
}
